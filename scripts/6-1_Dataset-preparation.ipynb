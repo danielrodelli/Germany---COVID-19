{
 "cells": [
  {
   "cell_type": "markdown",
   "id": "5e2633aa",
   "metadata": {},
   "source": [
    "# 6.1 Sourcing Open Data\n",
    "\n",
    "### Dataset Preparation\n",
    "\n"
   ]
  },
  {
   "cell_type": "code",
   "execution_count": 1,
   "id": "d54a4eda",
   "metadata": {},
   "outputs": [],
   "source": [
    "#iporting the libraries\n",
    "import pandas as pd\n",
    "import numpy as np\n",
    "import os\n",
    "from datetime import date"
   ]
  },
  {
   "cell_type": "code",
   "execution_count": 2,
   "id": "e6178409",
   "metadata": {},
   "outputs": [],
   "source": [
    "path = r'C:\\Users\\daniel\\Documents\\CareerFoundry\\Immersion_achievement6'"
   ]
  },
  {
   "cell_type": "code",
   "execution_count": 3,
   "id": "fce2eac9",
   "metadata": {},
   "outputs": [],
   "source": [
    "#importing the dataset\n",
    "df = pd.read_csv(os.path.join(path,'data', 'original_data','RKI_COVID19.csv'))"
   ]
  },
  {
   "cell_type": "code",
   "execution_count": 4,
   "id": "c273f87f",
   "metadata": {},
   "outputs": [
    {
     "data": {
      "text/html": [
       "<div>\n",
       "<style scoped>\n",
       "    .dataframe tbody tr th:only-of-type {\n",
       "        vertical-align: middle;\n",
       "    }\n",
       "\n",
       "    .dataframe tbody tr th {\n",
       "        vertical-align: top;\n",
       "    }\n",
       "\n",
       "    .dataframe thead th {\n",
       "        text-align: right;\n",
       "    }\n",
       "</style>\n",
       "<table border=\"1\" class=\"dataframe\">\n",
       "  <thead>\n",
       "    <tr style=\"text-align: right;\">\n",
       "      <th></th>\n",
       "      <th>IdBundesland</th>\n",
       "      <th>Bundesland</th>\n",
       "      <th>Landkreis</th>\n",
       "      <th>Altersgruppe</th>\n",
       "      <th>Geschlecht</th>\n",
       "      <th>AnzahlFall</th>\n",
       "      <th>AnzahlTodesfall</th>\n",
       "      <th>ObjectId</th>\n",
       "      <th>Meldedatum</th>\n",
       "      <th>IdLandkreis</th>\n",
       "      <th>Datenstand</th>\n",
       "      <th>NeuerFall</th>\n",
       "      <th>NeuerTodesfall</th>\n",
       "      <th>Refdatum</th>\n",
       "      <th>NeuGenesen</th>\n",
       "      <th>AnzahlGenesen</th>\n",
       "      <th>IstErkrankungsbeginn</th>\n",
       "      <th>Altersgruppe2</th>\n",
       "    </tr>\n",
       "  </thead>\n",
       "  <tbody>\n",
       "    <tr>\n",
       "      <th>0</th>\n",
       "      <td>1</td>\n",
       "      <td>Schleswig-Holstein</td>\n",
       "      <td>SK Flensburg</td>\n",
       "      <td>A00-A04</td>\n",
       "      <td>M</td>\n",
       "      <td>1</td>\n",
       "      <td>0</td>\n",
       "      <td>1</td>\n",
       "      <td>2020/09/30 00:00:00+00</td>\n",
       "      <td>1001</td>\n",
       "      <td>13.10.2021, 00:00 Uhr</td>\n",
       "      <td>0</td>\n",
       "      <td>-9</td>\n",
       "      <td>2020/09/30 00:00:00+00</td>\n",
       "      <td>0</td>\n",
       "      <td>1</td>\n",
       "      <td>0</td>\n",
       "      <td>Nicht übermittelt</td>\n",
       "    </tr>\n",
       "    <tr>\n",
       "      <th>1</th>\n",
       "      <td>1</td>\n",
       "      <td>Schleswig-Holstein</td>\n",
       "      <td>SK Flensburg</td>\n",
       "      <td>A00-A04</td>\n",
       "      <td>M</td>\n",
       "      <td>1</td>\n",
       "      <td>0</td>\n",
       "      <td>2</td>\n",
       "      <td>2020/10/29 00:00:00+00</td>\n",
       "      <td>1001</td>\n",
       "      <td>13.10.2021, 00:00 Uhr</td>\n",
       "      <td>0</td>\n",
       "      <td>-9</td>\n",
       "      <td>2020/10/29 00:00:00+00</td>\n",
       "      <td>0</td>\n",
       "      <td>1</td>\n",
       "      <td>0</td>\n",
       "      <td>Nicht übermittelt</td>\n",
       "    </tr>\n",
       "    <tr>\n",
       "      <th>2</th>\n",
       "      <td>1</td>\n",
       "      <td>Schleswig-Holstein</td>\n",
       "      <td>SK Flensburg</td>\n",
       "      <td>A00-A04</td>\n",
       "      <td>M</td>\n",
       "      <td>1</td>\n",
       "      <td>0</td>\n",
       "      <td>3</td>\n",
       "      <td>2020/11/03 00:00:00+00</td>\n",
       "      <td>1001</td>\n",
       "      <td>13.10.2021, 00:00 Uhr</td>\n",
       "      <td>0</td>\n",
       "      <td>-9</td>\n",
       "      <td>2020/11/03 00:00:00+00</td>\n",
       "      <td>0</td>\n",
       "      <td>1</td>\n",
       "      <td>0</td>\n",
       "      <td>Nicht übermittelt</td>\n",
       "    </tr>\n",
       "    <tr>\n",
       "      <th>3</th>\n",
       "      <td>1</td>\n",
       "      <td>Schleswig-Holstein</td>\n",
       "      <td>SK Flensburg</td>\n",
       "      <td>A00-A04</td>\n",
       "      <td>M</td>\n",
       "      <td>1</td>\n",
       "      <td>0</td>\n",
       "      <td>4</td>\n",
       "      <td>2020/11/20 00:00:00+00</td>\n",
       "      <td>1001</td>\n",
       "      <td>13.10.2021, 00:00 Uhr</td>\n",
       "      <td>0</td>\n",
       "      <td>-9</td>\n",
       "      <td>2020/11/19 00:00:00+00</td>\n",
       "      <td>0</td>\n",
       "      <td>1</td>\n",
       "      <td>1</td>\n",
       "      <td>Nicht übermittelt</td>\n",
       "    </tr>\n",
       "    <tr>\n",
       "      <th>4</th>\n",
       "      <td>1</td>\n",
       "      <td>Schleswig-Holstein</td>\n",
       "      <td>SK Flensburg</td>\n",
       "      <td>A00-A04</td>\n",
       "      <td>M</td>\n",
       "      <td>1</td>\n",
       "      <td>0</td>\n",
       "      <td>5</td>\n",
       "      <td>2020/11/23 00:00:00+00</td>\n",
       "      <td>1001</td>\n",
       "      <td>13.10.2021, 00:00 Uhr</td>\n",
       "      <td>0</td>\n",
       "      <td>-9</td>\n",
       "      <td>2020/11/18 00:00:00+00</td>\n",
       "      <td>0</td>\n",
       "      <td>1</td>\n",
       "      <td>1</td>\n",
       "      <td>Nicht übermittelt</td>\n",
       "    </tr>\n",
       "  </tbody>\n",
       "</table>\n",
       "</div>"
      ],
      "text/plain": [
       "   IdBundesland          Bundesland     Landkreis Altersgruppe Geschlecht  \\\n",
       "0             1  Schleswig-Holstein  SK Flensburg      A00-A04          M   \n",
       "1             1  Schleswig-Holstein  SK Flensburg      A00-A04          M   \n",
       "2             1  Schleswig-Holstein  SK Flensburg      A00-A04          M   \n",
       "3             1  Schleswig-Holstein  SK Flensburg      A00-A04          M   \n",
       "4             1  Schleswig-Holstein  SK Flensburg      A00-A04          M   \n",
       "\n",
       "   AnzahlFall  AnzahlTodesfall  ObjectId              Meldedatum  IdLandkreis  \\\n",
       "0           1                0         1  2020/09/30 00:00:00+00         1001   \n",
       "1           1                0         2  2020/10/29 00:00:00+00         1001   \n",
       "2           1                0         3  2020/11/03 00:00:00+00         1001   \n",
       "3           1                0         4  2020/11/20 00:00:00+00         1001   \n",
       "4           1                0         5  2020/11/23 00:00:00+00         1001   \n",
       "\n",
       "              Datenstand  NeuerFall  NeuerTodesfall                Refdatum  \\\n",
       "0  13.10.2021, 00:00 Uhr          0              -9  2020/09/30 00:00:00+00   \n",
       "1  13.10.2021, 00:00 Uhr          0              -9  2020/10/29 00:00:00+00   \n",
       "2  13.10.2021, 00:00 Uhr          0              -9  2020/11/03 00:00:00+00   \n",
       "3  13.10.2021, 00:00 Uhr          0              -9  2020/11/19 00:00:00+00   \n",
       "4  13.10.2021, 00:00 Uhr          0              -9  2020/11/18 00:00:00+00   \n",
       "\n",
       "   NeuGenesen  AnzahlGenesen  IstErkrankungsbeginn      Altersgruppe2  \n",
       "0           0              1                     0  Nicht übermittelt  \n",
       "1           0              1                     0  Nicht übermittelt  \n",
       "2           0              1                     0  Nicht übermittelt  \n",
       "3           0              1                     1  Nicht übermittelt  \n",
       "4           0              1                     1  Nicht übermittelt  "
      ]
     },
     "execution_count": 4,
     "metadata": {},
     "output_type": "execute_result"
    }
   ],
   "source": [
    "df.head()"
   ]
  },
  {
   "cell_type": "code",
   "execution_count": 5,
   "id": "fa008a03",
   "metadata": {},
   "outputs": [
    {
     "data": {
      "text/plain": [
       "(2484353, 18)"
      ]
     },
     "execution_count": 5,
     "metadata": {},
     "output_type": "execute_result"
    }
   ],
   "source": [
    "#check the dataframe size\n",
    "df.shape"
   ]
  },
  {
   "cell_type": "code",
   "execution_count": 6,
   "id": "4401e4ab",
   "metadata": {
    "scrolled": true
   },
   "outputs": [
    {
     "name": "stdout",
     "output_type": "stream",
     "text": [
      "<class 'pandas.core.frame.DataFrame'>\n",
      "RangeIndex: 2484353 entries, 0 to 2484352\n",
      "Data columns (total 18 columns):\n",
      " #   Column                Dtype \n",
      "---  ------                ----- \n",
      " 0   IdBundesland          int64 \n",
      " 1   Bundesland            object\n",
      " 2   Landkreis             object\n",
      " 3   Altersgruppe          object\n",
      " 4   Geschlecht            object\n",
      " 5   AnzahlFall            int64 \n",
      " 6   AnzahlTodesfall       int64 \n",
      " 7   ObjectId              int64 \n",
      " 8   Meldedatum            object\n",
      " 9   IdLandkreis           int64 \n",
      " 10  Datenstand            object\n",
      " 11  NeuerFall             int64 \n",
      " 12  NeuerTodesfall        int64 \n",
      " 13  Refdatum              object\n",
      " 14  NeuGenesen            int64 \n",
      " 15  AnzahlGenesen         int64 \n",
      " 16  IstErkrankungsbeginn  int64 \n",
      " 17  Altersgruppe2         object\n",
      "dtypes: int64(10), object(8)\n",
      "memory usage: 341.2+ MB\n"
     ]
    }
   ],
   "source": [
    "df.info()"
   ]
  },
  {
   "cell_type": "code",
   "execution_count": 7,
   "id": "585d36f7",
   "metadata": {},
   "outputs": [
    {
     "data": {
      "text/html": [
       "<div>\n",
       "<style scoped>\n",
       "    .dataframe tbody tr th:only-of-type {\n",
       "        vertical-align: middle;\n",
       "    }\n",
       "\n",
       "    .dataframe tbody tr th {\n",
       "        vertical-align: top;\n",
       "    }\n",
       "\n",
       "    .dataframe thead th {\n",
       "        text-align: right;\n",
       "    }\n",
       "</style>\n",
       "<table border=\"1\" class=\"dataframe\">\n",
       "  <thead>\n",
       "    <tr style=\"text-align: right;\">\n",
       "      <th></th>\n",
       "      <th>IdBundesland</th>\n",
       "      <th>AnzahlFall</th>\n",
       "      <th>AnzahlTodesfall</th>\n",
       "      <th>ObjectId</th>\n",
       "      <th>IdLandkreis</th>\n",
       "      <th>NeuerFall</th>\n",
       "      <th>NeuerTodesfall</th>\n",
       "      <th>NeuGenesen</th>\n",
       "      <th>AnzahlGenesen</th>\n",
       "      <th>IstErkrankungsbeginn</th>\n",
       "    </tr>\n",
       "  </thead>\n",
       "  <tbody>\n",
       "    <tr>\n",
       "      <th>count</th>\n",
       "      <td>2.484353e+06</td>\n",
       "      <td>2.484353e+06</td>\n",
       "      <td>2.484353e+06</td>\n",
       "      <td>2.484353e+06</td>\n",
       "      <td>2.484353e+06</td>\n",
       "      <td>2.484353e+06</td>\n",
       "      <td>2.484353e+06</td>\n",
       "      <td>2.484353e+06</td>\n",
       "      <td>2.484353e+06</td>\n",
       "      <td>2.484353e+06</td>\n",
       "    </tr>\n",
       "    <tr>\n",
       "      <th>mean</th>\n",
       "      <td>7.857048e+00</td>\n",
       "      <td>1.742939e+00</td>\n",
       "      <td>3.799299e-02</td>\n",
       "      <td>1.242177e+06</td>\n",
       "      <td>8.185296e+03</td>\n",
       "      <td>2.548752e-03</td>\n",
       "      <td>-8.711598e+00</td>\n",
       "      <td>-5.363843e-01</td>\n",
       "      <td>1.656873e+00</td>\n",
       "      <td>7.202736e-01</td>\n",
       "    </tr>\n",
       "    <tr>\n",
       "      <th>std</th>\n",
       "      <td>3.606993e+00</td>\n",
       "      <td>2.268683e+00</td>\n",
       "      <td>2.414624e-01</td>\n",
       "      <td>7.171711e+05</td>\n",
       "      <td>3.572716e+03</td>\n",
       "      <td>5.180679e-02</td>\n",
       "      <td>1.585186e+00</td>\n",
       "      <td>2.136860e+00</td>\n",
       "      <td>2.275013e+00</td>\n",
       "      <td>4.488648e-01</td>\n",
       "    </tr>\n",
       "    <tr>\n",
       "      <th>min</th>\n",
       "      <td>1.000000e+00</td>\n",
       "      <td>-3.000000e+00</td>\n",
       "      <td>-1.000000e+00</td>\n",
       "      <td>1.000000e+00</td>\n",
       "      <td>1.001000e+03</td>\n",
       "      <td>-1.000000e+00</td>\n",
       "      <td>-9.000000e+00</td>\n",
       "      <td>-9.000000e+00</td>\n",
       "      <td>-3.000000e+00</td>\n",
       "      <td>0.000000e+00</td>\n",
       "    </tr>\n",
       "    <tr>\n",
       "      <th>25%</th>\n",
       "      <td>5.000000e+00</td>\n",
       "      <td>1.000000e+00</td>\n",
       "      <td>0.000000e+00</td>\n",
       "      <td>6.210890e+05</td>\n",
       "      <td>5.562000e+03</td>\n",
       "      <td>0.000000e+00</td>\n",
       "      <td>-9.000000e+00</td>\n",
       "      <td>0.000000e+00</td>\n",
       "      <td>1.000000e+00</td>\n",
       "      <td>0.000000e+00</td>\n",
       "    </tr>\n",
       "    <tr>\n",
       "      <th>50%</th>\n",
       "      <td>8.000000e+00</td>\n",
       "      <td>1.000000e+00</td>\n",
       "      <td>0.000000e+00</td>\n",
       "      <td>1.242177e+06</td>\n",
       "      <td>8.136000e+03</td>\n",
       "      <td>0.000000e+00</td>\n",
       "      <td>-9.000000e+00</td>\n",
       "      <td>0.000000e+00</td>\n",
       "      <td>1.000000e+00</td>\n",
       "      <td>1.000000e+00</td>\n",
       "    </tr>\n",
       "    <tr>\n",
       "      <th>75%</th>\n",
       "      <td>9.000000e+00</td>\n",
       "      <td>2.000000e+00</td>\n",
       "      <td>0.000000e+00</td>\n",
       "      <td>1.863265e+06</td>\n",
       "      <td>9.679000e+03</td>\n",
       "      <td>0.000000e+00</td>\n",
       "      <td>-9.000000e+00</td>\n",
       "      <td>0.000000e+00</td>\n",
       "      <td>2.000000e+00</td>\n",
       "      <td>1.000000e+00</td>\n",
       "    </tr>\n",
       "    <tr>\n",
       "      <th>max</th>\n",
       "      <td>1.600000e+01</td>\n",
       "      <td>1.450000e+02</td>\n",
       "      <td>2.100000e+01</td>\n",
       "      <td>2.484353e+06</td>\n",
       "      <td>1.607700e+04</td>\n",
       "      <td>1.000000e+00</td>\n",
       "      <td>1.000000e+00</td>\n",
       "      <td>1.000000e+00</td>\n",
       "      <td>1.450000e+02</td>\n",
       "      <td>1.000000e+00</td>\n",
       "    </tr>\n",
       "  </tbody>\n",
       "</table>\n",
       "</div>"
      ],
      "text/plain": [
       "       IdBundesland    AnzahlFall  AnzahlTodesfall      ObjectId  \\\n",
       "count  2.484353e+06  2.484353e+06     2.484353e+06  2.484353e+06   \n",
       "mean   7.857048e+00  1.742939e+00     3.799299e-02  1.242177e+06   \n",
       "std    3.606993e+00  2.268683e+00     2.414624e-01  7.171711e+05   \n",
       "min    1.000000e+00 -3.000000e+00    -1.000000e+00  1.000000e+00   \n",
       "25%    5.000000e+00  1.000000e+00     0.000000e+00  6.210890e+05   \n",
       "50%    8.000000e+00  1.000000e+00     0.000000e+00  1.242177e+06   \n",
       "75%    9.000000e+00  2.000000e+00     0.000000e+00  1.863265e+06   \n",
       "max    1.600000e+01  1.450000e+02     2.100000e+01  2.484353e+06   \n",
       "\n",
       "        IdLandkreis     NeuerFall  NeuerTodesfall    NeuGenesen  \\\n",
       "count  2.484353e+06  2.484353e+06    2.484353e+06  2.484353e+06   \n",
       "mean   8.185296e+03  2.548752e-03   -8.711598e+00 -5.363843e-01   \n",
       "std    3.572716e+03  5.180679e-02    1.585186e+00  2.136860e+00   \n",
       "min    1.001000e+03 -1.000000e+00   -9.000000e+00 -9.000000e+00   \n",
       "25%    5.562000e+03  0.000000e+00   -9.000000e+00  0.000000e+00   \n",
       "50%    8.136000e+03  0.000000e+00   -9.000000e+00  0.000000e+00   \n",
       "75%    9.679000e+03  0.000000e+00   -9.000000e+00  0.000000e+00   \n",
       "max    1.607700e+04  1.000000e+00    1.000000e+00  1.000000e+00   \n",
       "\n",
       "       AnzahlGenesen  IstErkrankungsbeginn  \n",
       "count   2.484353e+06          2.484353e+06  \n",
       "mean    1.656873e+00          7.202736e-01  \n",
       "std     2.275013e+00          4.488648e-01  \n",
       "min    -3.000000e+00          0.000000e+00  \n",
       "25%     1.000000e+00          0.000000e+00  \n",
       "50%     1.000000e+00          1.000000e+00  \n",
       "75%     2.000000e+00          1.000000e+00  \n",
       "max     1.450000e+02          1.000000e+00  "
      ]
     },
     "execution_count": 7,
     "metadata": {},
     "output_type": "execute_result"
    }
   ],
   "source": [
    "#variable statistics\n",
    "df.describe()"
   ]
  },
  {
   "cell_type": "code",
   "execution_count": 8,
   "id": "27aa6a51",
   "metadata": {
    "scrolled": false
   },
   "outputs": [
    {
     "name": "stdout",
     "output_type": "stream",
     "text": [
      "IdBundesland data type is uniform\n",
      "Bundesland data type is uniform\n",
      "Landkreis data type is uniform\n",
      "Altersgruppe data type is uniform\n",
      "Geschlecht data type is uniform\n",
      "AnzahlFall data type is uniform\n",
      "AnzahlTodesfall data type is uniform\n",
      "ObjectId data type is uniform\n",
      "Meldedatum data type is uniform\n",
      "IdLandkreis data type is uniform\n",
      "Datenstand data type is uniform\n",
      "NeuerFall data type is uniform\n",
      "NeuerTodesfall data type is uniform\n",
      "Refdatum data type is uniform\n",
      "NeuGenesen data type is uniform\n",
      "AnzahlGenesen data type is uniform\n",
      "IstErkrankungsbeginn data type is uniform\n",
      "Altersgruppe2 data type is uniform\n"
     ]
    }
   ],
   "source": [
    "#check for mixed-tye data\n",
    "for col in df.columns.tolist():\n",
    "  weird = (df[[col]].applymap(type) != df[[col]].iloc[0].apply(type)).any(axis = 1)\n",
    "  if len (df[weird]) > 0:\n",
    "    print (col +' has mixed-type data')\n",
    "  else:\n",
    "    print (col + ' data type is uniform')"
   ]
  },
  {
   "cell_type": "markdown",
   "id": "f4ddb3cc",
   "metadata": {},
   "source": [
    "All data type are uniform"
   ]
  },
  {
   "cell_type": "markdown",
   "id": "a046bff2",
   "metadata": {},
   "source": [
    "#### Missing values"
   ]
  },
  {
   "cell_type": "code",
   "execution_count": 9,
   "id": "02494c07",
   "metadata": {},
   "outputs": [
    {
     "data": {
      "text/plain": [
       "IdBundesland            0\n",
       "Bundesland              0\n",
       "Landkreis               0\n",
       "Altersgruppe            0\n",
       "Geschlecht              0\n",
       "AnzahlFall              0\n",
       "AnzahlTodesfall         0\n",
       "ObjectId                0\n",
       "Meldedatum              0\n",
       "IdLandkreis             0\n",
       "Datenstand              0\n",
       "NeuerFall               0\n",
       "NeuerTodesfall          0\n",
       "Refdatum                0\n",
       "NeuGenesen              0\n",
       "AnzahlGenesen           0\n",
       "IstErkrankungsbeginn    0\n",
       "Altersgruppe2           0\n",
       "dtype: int64"
      ]
     },
     "execution_count": 9,
     "metadata": {},
     "output_type": "execute_result"
    }
   ],
   "source": [
    "df.isna().sum()"
   ]
  },
  {
   "cell_type": "markdown",
   "id": "5544c95b",
   "metadata": {},
   "source": [
    "There are no missing values"
   ]
  },
  {
   "cell_type": "markdown",
   "id": "9e1ea1af",
   "metadata": {},
   "source": [
    "#### Duplicates"
   ]
  },
  {
   "cell_type": "code",
   "execution_count": 10,
   "id": "219bb206",
   "metadata": {},
   "outputs": [],
   "source": [
    "df_dups = df[df.duplicated()]"
   ]
  },
  {
   "cell_type": "code",
   "execution_count": 11,
   "id": "bed921b4",
   "metadata": {},
   "outputs": [
    {
     "data": {
      "text/plain": [
       "(0, 18)"
      ]
     },
     "execution_count": 11,
     "metadata": {},
     "output_type": "execute_result"
    }
   ],
   "source": [
    "df_dups.shape"
   ]
  },
  {
   "cell_type": "markdown",
   "id": "7724a7fa",
   "metadata": {},
   "source": [
    "There are no duplicated entries"
   ]
  },
  {
   "cell_type": "markdown",
   "id": "70e02287",
   "metadata": {},
   "source": [
    "#### Data Cleaning"
   ]
  },
  {
   "cell_type": "code",
   "execution_count": 12,
   "id": "446e4072",
   "metadata": {},
   "outputs": [],
   "source": [
    "#rename the columns to have english names\n",
    "df.rename(columns={'IdBundesland':'StateID','Bundesland':'State','Landkreis':'District','Altersgruppe':'Age_group',\n",
    "                      'Geschlecht':'Gender', 'AnzahlFall':'N_cases','AnzahlTodesfall':'N_deaths', 'Meldedatum':'Registry_date',\n",
    "                      'IdLandkreis':'DistrictID','Datenstand':'Updated_on', 'NeuerFall':'New_case', \n",
    "                      'NeuerTodesfall':'New_death', 'Refdatum':'Ref_date','NeuGenesen':'New_recoveries', \n",
    "                      'AnzahlGenesen':'N_recoveries', 'IstErkrankungsbeginn':'Illness_onset', 'Altersgruppe2':'Age_group2'},\n",
    "         inplace=True)"
   ]
  },
  {
   "cell_type": "code",
   "execution_count": 13,
   "id": "37dcbd09",
   "metadata": {
    "scrolled": true
   },
   "outputs": [
    {
     "name": "stdout",
     "output_type": "stream",
     "text": [
      "<class 'pandas.core.frame.DataFrame'>\n",
      "RangeIndex: 2484353 entries, 0 to 2484352\n",
      "Data columns (total 18 columns):\n",
      " #   Column          Dtype \n",
      "---  ------          ----- \n",
      " 0   StateID         int64 \n",
      " 1   State           object\n",
      " 2   District        object\n",
      " 3   Age_group       object\n",
      " 4   Gender          object\n",
      " 5   N_cases         int64 \n",
      " 6   N_deaths        int64 \n",
      " 7   ObjectId        int64 \n",
      " 8   Registry_date   object\n",
      " 9   DistrictID      int64 \n",
      " 10  Updated_on      object\n",
      " 11  New_case        int64 \n",
      " 12  New_death       int64 \n",
      " 13  Ref_date        object\n",
      " 14  New_recoveries  int64 \n",
      " 15  N_recoveries    int64 \n",
      " 16  Illness_onset   int64 \n",
      " 17  Age_group2      object\n",
      "dtypes: int64(10), object(8)\n",
      "memory usage: 341.2+ MB\n"
     ]
    }
   ],
   "source": [
    "df.info()"
   ]
  },
  {
   "cell_type": "markdown",
   "id": "37042e06",
   "metadata": {},
   "source": [
    "#### Check Values"
   ]
  },
  {
   "cell_type": "code",
   "execution_count": 15,
   "id": "e133f5f2",
   "metadata": {},
   "outputs": [
    {
     "data": {
      "text/plain": [
       "1      60499\n",
       "2      34380\n",
       "3     191839\n",
       "4      16436\n",
       "5     513359\n",
       "6     190082\n",
       "7     121275\n",
       "8     355471\n",
       "9     449654\n",
       "10     27952\n",
       "11    119420\n",
       "12     80296\n",
       "13     34118\n",
       "14    134982\n",
       "15     61118\n",
       "16     93472\n",
       "Name: StateID, dtype: int64"
      ]
     },
     "execution_count": 15,
     "metadata": {},
     "output_type": "execute_result"
    }
   ],
   "source": [
    "df.StateID.value_counts().sort_index()"
   ]
  },
  {
   "cell_type": "code",
   "execution_count": 16,
   "id": "a8023a22",
   "metadata": {
    "scrolled": true
   },
   "outputs": [
    {
     "data": {
      "text/plain": [
       "Baden-Württemberg         355471\n",
       "Bayern                    449654\n",
       "Berlin                    119420\n",
       "Brandenburg                80296\n",
       "Bremen                     16436\n",
       "Hamburg                    34380\n",
       "Hessen                    190082\n",
       "Mecklenburg-Vorpommern     34118\n",
       "Niedersachsen             191839\n",
       "Nordrhein-Westfalen       513359\n",
       "Rheinland-Pfalz           121275\n",
       "Saarland                   27952\n",
       "Sachsen                   134982\n",
       "Sachsen-Anhalt             61118\n",
       "Schleswig-Holstein         60499\n",
       "Thüringen                  93472\n",
       "Name: State, dtype: int64"
      ]
     },
     "execution_count": 16,
     "metadata": {},
     "output_type": "execute_result"
    }
   ],
   "source": [
    "df.State.value_counts().sort_index()"
   ]
  },
  {
   "cell_type": "markdown",
   "id": "a20ebd53",
   "metadata": {},
   "source": [
    "State and StateID contain redundant information"
   ]
  },
  {
   "cell_type": "code",
   "execution_count": 17,
   "id": "da8aa010",
   "metadata": {},
   "outputs": [
    {
     "data": {
      "text/plain": [
       "SK Hamburg              34380\n",
       "SK Köln                 25479\n",
       "SK München              23725\n",
       "Region Hannover         21464\n",
       "SK Frankfurt am Main    20697\n",
       "                        ...  \n",
       "SK Pirmasens             1413\n",
       "SK Emden                 1357\n",
       "LK Wittmund              1282\n",
       "SK Zweibrücken            966\n",
       "LK Lüchow-Dannenberg      937\n",
       "Name: District, Length: 411, dtype: int64"
      ]
     },
     "execution_count": 17,
     "metadata": {},
     "output_type": "execute_result"
    }
   ],
   "source": [
    "df.District.value_counts()"
   ]
  },
  {
   "cell_type": "code",
   "execution_count": 18,
   "id": "b78e94a3",
   "metadata": {
    "scrolled": false
   },
   "outputs": [
    {
     "data": {
      "text/plain": [
       "2000    34380\n",
       "5315    25479\n",
       "9162    23725\n",
       "3241    21464\n",
       "6412    20697\n",
       "        ...  \n",
       "7317     1413\n",
       "3402     1357\n",
       "3462     1282\n",
       "7320      966\n",
       "3354      937\n",
       "Name: DistrictID, Length: 411, dtype: int64"
      ]
     },
     "execution_count": 18,
     "metadata": {},
     "output_type": "execute_result"
    }
   ],
   "source": [
    "df.DistrictID.value_counts()"
   ]
  },
  {
   "cell_type": "code",
   "execution_count": 19,
   "id": "5ec36bb4",
   "metadata": {},
   "outputs": [
    {
     "data": {
      "text/plain": [
       "A35-A59      830493\n",
       "A15-A34      723067\n",
       "A60-A79      395187\n",
       "A05-A14      248964\n",
       "A80+         185683\n",
       "A00-A04       98880\n",
       "unbekannt      2079\n",
       "Name: Age_group, dtype: int64"
      ]
     },
     "execution_count": 19,
     "metadata": {},
     "output_type": "execute_result"
    }
   ],
   "source": [
    "df.Age_group.value_counts()"
   ]
  },
  {
   "cell_type": "code",
   "execution_count": 20,
   "id": "b87036c8",
   "metadata": {
    "scrolled": true
   },
   "outputs": [
    {
     "data": {
      "text/plain": [
       "W            1253989\n",
       "M            1211011\n",
       "unbekannt      19353\n",
       "Name: Gender, dtype: int64"
      ]
     },
     "execution_count": 20,
     "metadata": {},
     "output_type": "execute_result"
    }
   ],
   "source": [
    "df.Gender.value_counts()"
   ]
  },
  {
   "cell_type": "code",
   "execution_count": 21,
   "id": "27bd2ba0",
   "metadata": {},
   "outputs": [
    {
     "data": {
      "text/plain": [
       "13.10.2021, 00:00 Uhr    2484353\n",
       "Name: Updated_on, dtype: int64"
      ]
     },
     "execution_count": 21,
     "metadata": {},
     "output_type": "execute_result"
    }
   ],
   "source": [
    "df.Updated_on.value_counts()"
   ]
  },
  {
   "cell_type": "markdown",
   "id": "7d95b6f4",
   "metadata": {},
   "source": [
    "This information is not important, the column can be dropped. It represents when the dataset was updated."
   ]
  },
  {
   "cell_type": "code",
   "execution_count": 22,
   "id": "6105fdda",
   "metadata": {},
   "outputs": [
    {
     "data": {
      "text/plain": [
       "1    1789414\n",
       "0     694939\n",
       "Name: Illness_onset, dtype: int64"
      ]
     },
     "execution_count": 22,
     "metadata": {},
     "output_type": "execute_result"
    }
   ],
   "source": [
    "df.Illness_onset.value_counts()"
   ]
  },
  {
   "cell_type": "code",
   "execution_count": 23,
   "id": "f5b7f15b",
   "metadata": {
    "scrolled": true
   },
   "outputs": [
    {
     "data": {
      "text/plain": [
       "Nicht übermittelt    2484353\n",
       "Name: Age_group2, dtype: int64"
      ]
     },
     "execution_count": 23,
     "metadata": {},
     "output_type": "execute_result"
    }
   ],
   "source": [
    "df.Age_group2.value_counts()"
   ]
  },
  {
   "cell_type": "markdown",
   "id": "8ca7c004",
   "metadata": {},
   "source": [
    "All the entries are \"not transmitted\". I will be dropped."
   ]
  },
  {
   "cell_type": "code",
   "execution_count": 24,
   "id": "eb441c71",
   "metadata": {},
   "outputs": [
    {
     "data": {
      "text/plain": [
       "2020/01/01 00:00:00+00      14\n",
       "2020/01/02 00:00:00+00      14\n",
       "2020/01/03 00:00:00+00      17\n",
       "2020/01/04 00:00:00+00      19\n",
       "2020/01/05 00:00:00+00      17\n",
       "                          ... \n",
       "2021/10/08 00:00:00+00    3546\n",
       "2021/10/09 00:00:00+00    2656\n",
       "2021/10/10 00:00:00+00    1503\n",
       "2021/10/11 00:00:00+00    1985\n",
       "2021/10/12 00:00:00+00    2122\n",
       "Name: Ref_date, Length: 650, dtype: int64"
      ]
     },
     "execution_count": 24,
     "metadata": {},
     "output_type": "execute_result"
    }
   ],
   "source": [
    "df.Ref_date.value_counts().sort_index()"
   ]
  },
  {
   "cell_type": "code",
   "execution_count": 25,
   "id": "bcd669ca",
   "metadata": {
    "scrolled": true
   },
   "outputs": [
    {
     "data": {
      "text/plain": [
       "2020/01/02 00:00:00+00       1\n",
       "2020/01/23 00:00:00+00       1\n",
       "2020/01/28 00:00:00+00       2\n",
       "2020/01/29 00:00:00+00       2\n",
       "2020/01/31 00:00:00+00       4\n",
       "                          ... \n",
       "2021/10/08 00:00:00+00    5588\n",
       "2021/10/09 00:00:00+00    4377\n",
       "2021/10/10 00:00:00+00    1794\n",
       "2021/10/11 00:00:00+00    3448\n",
       "2021/10/12 00:00:00+00    4592\n",
       "Name: Registry_date, Length: 612, dtype: int64"
      ]
     },
     "execution_count": 25,
     "metadata": {},
     "output_type": "execute_result"
    }
   ],
   "source": [
    "df.Registry_date.value_counts().sort_index()"
   ]
  },
  {
   "cell_type": "markdown",
   "id": "79cc19b6",
   "metadata": {},
   "source": [
    "Registry_date represents when the information was registered by the RKI, not the date of the illness or death. The column can be dropped."
   ]
  },
  {
   "cell_type": "code",
   "execution_count": 26,
   "id": "916e2803",
   "metadata": {},
   "outputs": [
    {
     "data": {
      "text/plain": [
       " 0    2477669\n",
       " 1       6508\n",
       "-1        176\n",
       "Name: New_case, dtype: int64"
      ]
     },
     "execution_count": 26,
     "metadata": {},
     "output_type": "execute_result"
    }
   ],
   "source": [
    "df['New_case'].value_counts()"
   ]
  },
  {
   "cell_type": "code",
   "execution_count": 27,
   "id": "5df6f497",
   "metadata": {},
   "outputs": [
    {
     "data": {
      "text/plain": [
       "-9    2404753\n",
       " 0      79506\n",
       " 1         93\n",
       "-1          1\n",
       "Name: New_death, dtype: int64"
      ]
     },
     "execution_count": 27,
     "metadata": {},
     "output_type": "execute_result"
    }
   ],
   "source": [
    "df['New_death'].value_counts()"
   ]
  },
  {
   "cell_type": "code",
   "execution_count": 28,
   "id": "cb2325f1",
   "metadata": {},
   "outputs": [
    {
     "data": {
      "text/plain": [
       " 0    2328725\n",
       "-9     148789\n",
       " 1       6686\n",
       "-1        153\n",
       "Name: New_recoveries, dtype: int64"
      ]
     },
     "execution_count": 28,
     "metadata": {},
     "output_type": "execute_result"
    }
   ],
   "source": [
    "df['New_recoveries'].value_counts()"
   ]
  },
  {
   "cell_type": "markdown",
   "id": "34e27c2d",
   "metadata": {},
   "source": [
    "By looking at the values, 'New_case','New_death', and 'New_recoveries' are probably used to flag the presence of new cases/deaths. These columns can be dropped"
   ]
  },
  {
   "cell_type": "code",
   "execution_count": 29,
   "id": "6b4e1141",
   "metadata": {},
   "outputs": [],
   "source": [
    "#dropping columns that are not important or redundant\n",
    "df.drop(columns=['StateID', 'DistrictID','Age_group2', 'Updated_on', 'Registry_date', 'New_case', 'New_death', 'New_recoveries'], \n",
    "        inplace=True)"
   ]
  },
  {
   "cell_type": "code",
   "execution_count": 30,
   "id": "29feb425",
   "metadata": {},
   "outputs": [],
   "source": [
    "#changing object-type columns to category\n",
    "df['State']=df.State.astype('category')\n",
    "df['Age_group']=df.Age_group.astype('category')\n",
    "df['Gender']=df.Gender.astype('category')"
   ]
  },
  {
   "cell_type": "code",
   "execution_count": 31,
   "id": "46d737e6",
   "metadata": {},
   "outputs": [],
   "source": [
    "#replace some entries with the english equivalent for clarity\n",
    "df=df.replace({'unbekannt':'unknown'})\n",
    "df['Gender']=df['Gender'].replace({'W':'F'})"
   ]
  },
  {
   "cell_type": "markdown",
   "id": "09e5f47b",
   "metadata": {},
   "source": [
    "#### Time and Dates"
   ]
  },
  {
   "cell_type": "code",
   "execution_count": 33,
   "id": "e079bb0e",
   "metadata": {},
   "outputs": [],
   "source": [
    "#transform the Ref_date column to datetime\n",
    "df['Date'] =  pd.to_datetime(df['Ref_date'], infer_datetime_format=True)"
   ]
  },
  {
   "cell_type": "code",
   "execution_count": 34,
   "id": "53c0b9ab",
   "metadata": {},
   "outputs": [],
   "source": [
    "#extract day, month, year, and weekday information form datetime column\n",
    "df['day'] = df['Date'].dt.day\n",
    "df['month'] = df['Date'].dt.month\n",
    "df['year'] = df['Date'].dt.year\n",
    "df['weekday']= df['Date'].dt.dayofweek\n"
   ]
  },
  {
   "cell_type": "code",
   "execution_count": 37,
   "id": "ed4f95a7",
   "metadata": {},
   "outputs": [],
   "source": [
    "#drop the 'Ref_date' column. The relevant information is now encoded in the 'Date' column\n",
    "df=df.drop(columns=['Ref_date'])"
   ]
  },
  {
   "cell_type": "markdown",
   "id": "7a48af47",
   "metadata": {},
   "source": [
    "Recast columns to a more appropriate type"
   ]
  },
  {
   "cell_type": "code",
   "execution_count": 35,
   "id": "8620cb10",
   "metadata": {},
   "outputs": [],
   "source": [
    "#The maximum number expected for any entry has an order of magnitude of 10E6, much lower than 10E159 allowed by int64.\n",
    "#cast the columns to a more appropriate type \n",
    "df['day'] = df['day'].astype('int16')\n",
    "df['month'] = df['month'].astype('int16')\n",
    "df['year'] = df['year'].astype('int16')\n",
    "df['weekday']= df['weekday'].astype('int16')\n",
    "df['N_cases'] = df['N_cases'].astype('int32')\n",
    "df['N_deaths'] = df['N_deaths'].astype('int32')\n",
    "df['ObjectId'] = df['ObjectId'].astype('int32')\n",
    "df['N_recoveries'] = df['N_recoveries'].astype('int16')\n",
    "df['Illness_onset'] = df['Illness_onset'].astype('category')"
   ]
  },
  {
   "cell_type": "code",
   "execution_count": 38,
   "id": "b6cd2de5",
   "metadata": {
    "scrolled": true
   },
   "outputs": [
    {
     "name": "stdout",
     "output_type": "stream",
     "text": [
      "<class 'pandas.core.frame.DataFrame'>\n",
      "RangeIndex: 2484353 entries, 0 to 2484352\n",
      "Data columns (total 14 columns):\n",
      " #   Column         Dtype         \n",
      "---  ------         -----         \n",
      " 0   State          category      \n",
      " 1   District       object        \n",
      " 2   Age_group      category      \n",
      " 3   Gender         category      \n",
      " 4   N_cases        int32         \n",
      " 5   N_deaths       int32         \n",
      " 6   ObjectId       int32         \n",
      " 7   N_recoveries   int16         \n",
      " 8   Illness_onset  category      \n",
      " 9   Date           datetime64[ns]\n",
      " 10  day            int16         \n",
      " 11  month          int16         \n",
      " 12  year           int16         \n",
      " 13  weekday        int16         \n",
      "dtypes: category(4), datetime64[ns](1), int16(5), int32(3), object(1)\n",
      "memory usage: 99.5+ MB\n"
     ]
    }
   ],
   "source": [
    "df.info()"
   ]
  },
  {
   "cell_type": "markdown",
   "id": "7f940f15",
   "metadata": {},
   "source": [
    "### Importing the demographics dataset"
   ]
  },
  {
   "cell_type": "code",
   "execution_count": 41,
   "id": "8fd54ba5",
   "metadata": {},
   "outputs": [],
   "source": [
    "demo=pd.read_csv(os.path.join(path,'data', 'original_data','demo_de.csv'))"
   ]
  },
  {
   "cell_type": "code",
   "execution_count": 42,
   "id": "b030c5bc",
   "metadata": {
    "scrolled": true
   },
   "outputs": [
    {
     "data": {
      "text/html": [
       "<div>\n",
       "<style scoped>\n",
       "    .dataframe tbody tr th:only-of-type {\n",
       "        vertical-align: middle;\n",
       "    }\n",
       "\n",
       "    .dataframe tbody tr th {\n",
       "        vertical-align: top;\n",
       "    }\n",
       "\n",
       "    .dataframe thead th {\n",
       "        text-align: right;\n",
       "    }\n",
       "</style>\n",
       "<table border=\"1\" class=\"dataframe\">\n",
       "  <thead>\n",
       "    <tr style=\"text-align: right;\">\n",
       "      <th></th>\n",
       "      <th>Bundesland</th>\n",
       "      <th>m�nnlich</th>\n",
       "      <th>weiblich</th>\n",
       "      <th>Insgesamt</th>\n",
       "    </tr>\n",
       "  </thead>\n",
       "  <tbody>\n",
       "    <tr>\n",
       "      <th>0</th>\n",
       "      <td>Baden-W�rttemberg</td>\n",
       "      <td>5516636</td>\n",
       "      <td>5586407</td>\n",
       "      <td>11103043</td>\n",
       "    </tr>\n",
       "    <tr>\n",
       "      <th>1</th>\n",
       "      <td>Bayern</td>\n",
       "      <td>6512595</td>\n",
       "      <td>6627588</td>\n",
       "      <td>13140183</td>\n",
       "    </tr>\n",
       "    <tr>\n",
       "      <th>2</th>\n",
       "      <td>Berlin</td>\n",
       "      <td>1802038</td>\n",
       "      <td>1862050</td>\n",
       "      <td>3664088</td>\n",
       "    </tr>\n",
       "    <tr>\n",
       "      <th>3</th>\n",
       "      <td>Brandenburg</td>\n",
       "      <td>1248050</td>\n",
       "      <td>1283021</td>\n",
       "      <td>2531071</td>\n",
       "    </tr>\n",
       "    <tr>\n",
       "      <th>4</th>\n",
       "      <td>Bremen</td>\n",
       "      <td>336390</td>\n",
       "      <td>343740</td>\n",
       "      <td>680130</td>\n",
       "    </tr>\n",
       "  </tbody>\n",
       "</table>\n",
       "</div>"
      ],
      "text/plain": [
       "          Bundesland  m�nnlich  weiblich  Insgesamt\n",
       "0  Baden-W�rttemberg   5516636   5586407   11103043\n",
       "1             Bayern   6512595   6627588   13140183\n",
       "2             Berlin   1802038   1862050    3664088\n",
       "3        Brandenburg   1248050   1283021    2531071\n",
       "4             Bremen    336390    343740     680130"
      ]
     },
     "execution_count": 42,
     "metadata": {},
     "output_type": "execute_result"
    }
   ],
   "source": [
    "demo.head()"
   ]
  },
  {
   "cell_type": "code",
   "execution_count": 43,
   "id": "1073b437",
   "metadata": {},
   "outputs": [
    {
     "data": {
      "text/plain": [
       "(16, 4)"
      ]
     },
     "execution_count": 43,
     "metadata": {},
     "output_type": "execute_result"
    }
   ],
   "source": [
    "demo.shape"
   ]
  },
  {
   "cell_type": "code",
   "execution_count": 75,
   "id": "45929aa2",
   "metadata": {
    "scrolled": true
   },
   "outputs": [
    {
     "data": {
      "text/html": [
       "<div>\n",
       "<style scoped>\n",
       "    .dataframe tbody tr th:only-of-type {\n",
       "        vertical-align: middle;\n",
       "    }\n",
       "\n",
       "    .dataframe tbody tr th {\n",
       "        vertical-align: top;\n",
       "    }\n",
       "\n",
       "    .dataframe thead th {\n",
       "        text-align: right;\n",
       "    }\n",
       "</style>\n",
       "<table border=\"1\" class=\"dataframe\">\n",
       "  <thead>\n",
       "    <tr style=\"text-align: right;\">\n",
       "      <th></th>\n",
       "      <th>Male</th>\n",
       "      <th>Female</th>\n",
       "      <th>Total</th>\n",
       "    </tr>\n",
       "  </thead>\n",
       "  <tbody>\n",
       "    <tr>\n",
       "      <th>count</th>\n",
       "      <td>1.600000e+01</td>\n",
       "      <td>1.600000e+01</td>\n",
       "      <td>1.600000e+01</td>\n",
       "    </tr>\n",
       "    <tr>\n",
       "      <th>mean</th>\n",
       "      <td>2.564157e+06</td>\n",
       "      <td>2.633032e+06</td>\n",
       "      <td>5.197189e+06</td>\n",
       "    </tr>\n",
       "    <tr>\n",
       "      <th>std</th>\n",
       "      <td>2.439448e+06</td>\n",
       "      <td>2.507219e+06</td>\n",
       "      <td>4.946532e+06</td>\n",
       "    </tr>\n",
       "    <tr>\n",
       "      <th>min</th>\n",
       "      <td>3.363900e+05</td>\n",
       "      <td>3.437400e+05</td>\n",
       "      <td>6.801300e+05</td>\n",
       "    </tr>\n",
       "    <tr>\n",
       "      <th>25%</th>\n",
       "      <td>1.013642e+06</td>\n",
       "      <td>1.039655e+06</td>\n",
       "      <td>2.053297e+06</td>\n",
       "    </tr>\n",
       "    <tr>\n",
       "      <th>50%</th>\n",
       "      <td>1.613844e+06</td>\n",
       "      <td>1.673638e+06</td>\n",
       "      <td>3.287482e+06</td>\n",
       "    </tr>\n",
       "    <tr>\n",
       "      <th>75%</th>\n",
       "      <td>3.319170e+06</td>\n",
       "      <td>3.401551e+06</td>\n",
       "      <td>6.720721e+06</td>\n",
       "    </tr>\n",
       "    <tr>\n",
       "      <th>max</th>\n",
       "      <td>8.794888e+06</td>\n",
       "      <td>9.130682e+06</td>\n",
       "      <td>1.792557e+07</td>\n",
       "    </tr>\n",
       "  </tbody>\n",
       "</table>\n",
       "</div>"
      ],
      "text/plain": [
       "               Male        Female         Total\n",
       "count  1.600000e+01  1.600000e+01  1.600000e+01\n",
       "mean   2.564157e+06  2.633032e+06  5.197189e+06\n",
       "std    2.439448e+06  2.507219e+06  4.946532e+06\n",
       "min    3.363900e+05  3.437400e+05  6.801300e+05\n",
       "25%    1.013642e+06  1.039655e+06  2.053297e+06\n",
       "50%    1.613844e+06  1.673638e+06  3.287482e+06\n",
       "75%    3.319170e+06  3.401551e+06  6.720721e+06\n",
       "max    8.794888e+06  9.130682e+06  1.792557e+07"
      ]
     },
     "execution_count": 75,
     "metadata": {},
     "output_type": "execute_result"
    }
   ],
   "source": [
    "demo.describe()"
   ]
  },
  {
   "cell_type": "code",
   "execution_count": 76,
   "id": "26c1e93f",
   "metadata": {},
   "outputs": [
    {
     "data": {
      "text/plain": [
       "State     0\n",
       "Male      0\n",
       "Female    0\n",
       "Total     0\n",
       "dtype: int64"
      ]
     },
     "execution_count": 76,
     "metadata": {},
     "output_type": "execute_result"
    }
   ],
   "source": [
    "#check for missing values\n",
    "demo.isna().sum()"
   ]
  },
  {
   "cell_type": "markdown",
   "id": "22c18d51",
   "metadata": {},
   "source": [
    "There are no missing values"
   ]
  },
  {
   "cell_type": "code",
   "execution_count": 77,
   "id": "6dc85088",
   "metadata": {},
   "outputs": [
    {
     "name": "stdout",
     "output_type": "stream",
     "text": [
      "State data type is uniform\n",
      "Male data type is uniform\n",
      "Female data type is uniform\n",
      "Total data type is uniform\n"
     ]
    }
   ],
   "source": [
    "#check for mixed-type data\n",
    "for col in demo.columns.tolist():\n",
    "  weird = (demo[[col]].applymap(type) != demo[[col]].iloc[0].apply(type)).any(axis = 1)\n",
    "  if len (demo[weird]) > 0:\n",
    "    print (col +' has mixed-type data')\n",
    "  else:\n",
    "    print (col + ' data type is uniform')"
   ]
  },
  {
   "cell_type": "markdown",
   "id": "6dda4542",
   "metadata": {},
   "source": [
    "All columns data type are uniform"
   ]
  },
  {
   "cell_type": "code",
   "execution_count": 79,
   "id": "456d8359",
   "metadata": {},
   "outputs": [],
   "source": [
    "#check for duplicated entries\n",
    "demo_dups=demo[demo.duplicated()]"
   ]
  },
  {
   "cell_type": "code",
   "execution_count": 81,
   "id": "75f321c8",
   "metadata": {},
   "outputs": [
    {
     "data": {
      "text/plain": [
       "(0, 4)"
      ]
     },
     "execution_count": 81,
     "metadata": {},
     "output_type": "execute_result"
    }
   ],
   "source": [
    "demo_dups.shape"
   ]
  },
  {
   "cell_type": "markdown",
   "id": "ec48b03e",
   "metadata": {},
   "source": [
    "There are no duplicate entries"
   ]
  },
  {
   "cell_type": "code",
   "execution_count": 44,
   "id": "7ab0998e",
   "metadata": {},
   "outputs": [
    {
     "data": {
      "text/plain": [
       "Baden-W�rttemberg         1\n",
       "Bayern                    1\n",
       "Berlin                    1\n",
       "Brandenburg               1\n",
       "Bremen                    1\n",
       "Hamburg                   1\n",
       "Hessen                    1\n",
       "Mecklenburg-Vorpommern    1\n",
       "Niedersachsen             1\n",
       "Nordrhein-Westfalen       1\n",
       "Rheinland-Pfalz           1\n",
       "Saarland                  1\n",
       "Sachsen                   1\n",
       "Sachsen-Anhalt            1\n",
       "Schleswig-Holstein        1\n",
       "Th�ringen                 1\n",
       "Name: Bundesland, dtype: int64"
      ]
     },
     "execution_count": 44,
     "metadata": {},
     "output_type": "execute_result"
    }
   ],
   "source": [
    "demo.Bundesland.value_counts().sort_index()"
   ]
  },
  {
   "cell_type": "code",
   "execution_count": 45,
   "id": "3a2521d8",
   "metadata": {},
   "outputs": [],
   "source": [
    "#Replace unknown characters in the values\n",
    "demo=demo.replace({'Baden-W�rttemberg':'Baden-Württemberg', 'Th�ringen':'Thüringen'})"
   ]
  },
  {
   "cell_type": "code",
   "execution_count": 46,
   "id": "910bab24",
   "metadata": {},
   "outputs": [
    {
     "data": {
      "text/plain": [
       "Baden-Württemberg         1\n",
       "Bayern                    1\n",
       "Berlin                    1\n",
       "Brandenburg               1\n",
       "Bremen                    1\n",
       "Hamburg                   1\n",
       "Hessen                    1\n",
       "Mecklenburg-Vorpommern    1\n",
       "Niedersachsen             1\n",
       "Nordrhein-Westfalen       1\n",
       "Rheinland-Pfalz           1\n",
       "Saarland                  1\n",
       "Sachsen                   1\n",
       "Sachsen-Anhalt            1\n",
       "Schleswig-Holstein        1\n",
       "Thüringen                 1\n",
       "Name: Bundesland, dtype: int64"
      ]
     },
     "execution_count": 46,
     "metadata": {},
     "output_type": "execute_result"
    }
   ],
   "source": [
    "demo.Bundesland.value_counts().sort_index()"
   ]
  },
  {
   "cell_type": "code",
   "execution_count": 53,
   "id": "b95f42c8",
   "metadata": {},
   "outputs": [],
   "source": [
    "#rename columns\n",
    "demo=demo.rename(columns=({'Bundesland':'State','m�nnlich':'Male', 'weiblich':'Female', 'Insgesamt':'Total'}))"
   ]
  },
  {
   "cell_type": "code",
   "execution_count": 54,
   "id": "3ba6715e",
   "metadata": {},
   "outputs": [
    {
     "name": "stdout",
     "output_type": "stream",
     "text": [
      "<class 'pandas.core.frame.DataFrame'>\n",
      "RangeIndex: 16 entries, 0 to 15\n",
      "Data columns (total 4 columns):\n",
      " #   Column  Non-Null Count  Dtype \n",
      "---  ------  --------------  ----- \n",
      " 0   State   16 non-null     object\n",
      " 1   Male    16 non-null     int64 \n",
      " 2   Female  16 non-null     int64 \n",
      " 3   Total   16 non-null     int64 \n",
      "dtypes: int64(3), object(1)\n",
      "memory usage: 640.0+ bytes\n"
     ]
    }
   ],
   "source": [
    "demo.info()"
   ]
  },
  {
   "cell_type": "code",
   "execution_count": 63,
   "id": "a406d32e",
   "metadata": {},
   "outputs": [],
   "source": [
    "#merge the tow dataframes\n",
    "df_merged=pd.merge(df, demo, on=['State'])"
   ]
  },
  {
   "cell_type": "code",
   "execution_count": 64,
   "id": "69156ef3",
   "metadata": {
    "scrolled": true
   },
   "outputs": [
    {
     "data": {
      "text/html": [
       "<div>\n",
       "<style scoped>\n",
       "    .dataframe tbody tr th:only-of-type {\n",
       "        vertical-align: middle;\n",
       "    }\n",
       "\n",
       "    .dataframe tbody tr th {\n",
       "        vertical-align: top;\n",
       "    }\n",
       "\n",
       "    .dataframe thead th {\n",
       "        text-align: right;\n",
       "    }\n",
       "</style>\n",
       "<table border=\"1\" class=\"dataframe\">\n",
       "  <thead>\n",
       "    <tr style=\"text-align: right;\">\n",
       "      <th></th>\n",
       "      <th>State</th>\n",
       "      <th>District</th>\n",
       "      <th>Age_group</th>\n",
       "      <th>Gender</th>\n",
       "      <th>N_cases</th>\n",
       "      <th>N_deaths</th>\n",
       "      <th>ObjectId</th>\n",
       "      <th>N_recoveries</th>\n",
       "      <th>Illness_onset</th>\n",
       "      <th>Date</th>\n",
       "      <th>day</th>\n",
       "      <th>month</th>\n",
       "      <th>year</th>\n",
       "      <th>weekday</th>\n",
       "      <th>Male</th>\n",
       "      <th>Female</th>\n",
       "      <th>Total</th>\n",
       "    </tr>\n",
       "  </thead>\n",
       "  <tbody>\n",
       "    <tr>\n",
       "      <th>0</th>\n",
       "      <td>Schleswig-Holstein</td>\n",
       "      <td>SK Flensburg</td>\n",
       "      <td>A00-A04</td>\n",
       "      <td>M</td>\n",
       "      <td>1</td>\n",
       "      <td>0</td>\n",
       "      <td>1</td>\n",
       "      <td>1</td>\n",
       "      <td>0</td>\n",
       "      <td>2020-09-30</td>\n",
       "      <td>30</td>\n",
       "      <td>9</td>\n",
       "      <td>2020</td>\n",
       "      <td>2</td>\n",
       "      <td>1425649</td>\n",
       "      <td>1485226</td>\n",
       "      <td>2910875</td>\n",
       "    </tr>\n",
       "    <tr>\n",
       "      <th>1</th>\n",
       "      <td>Schleswig-Holstein</td>\n",
       "      <td>SK Flensburg</td>\n",
       "      <td>A00-A04</td>\n",
       "      <td>M</td>\n",
       "      <td>1</td>\n",
       "      <td>0</td>\n",
       "      <td>2</td>\n",
       "      <td>1</td>\n",
       "      <td>0</td>\n",
       "      <td>2020-10-29</td>\n",
       "      <td>29</td>\n",
       "      <td>10</td>\n",
       "      <td>2020</td>\n",
       "      <td>3</td>\n",
       "      <td>1425649</td>\n",
       "      <td>1485226</td>\n",
       "      <td>2910875</td>\n",
       "    </tr>\n",
       "    <tr>\n",
       "      <th>2</th>\n",
       "      <td>Schleswig-Holstein</td>\n",
       "      <td>SK Flensburg</td>\n",
       "      <td>A00-A04</td>\n",
       "      <td>M</td>\n",
       "      <td>1</td>\n",
       "      <td>0</td>\n",
       "      <td>3</td>\n",
       "      <td>1</td>\n",
       "      <td>0</td>\n",
       "      <td>2020-11-03</td>\n",
       "      <td>3</td>\n",
       "      <td>11</td>\n",
       "      <td>2020</td>\n",
       "      <td>1</td>\n",
       "      <td>1425649</td>\n",
       "      <td>1485226</td>\n",
       "      <td>2910875</td>\n",
       "    </tr>\n",
       "    <tr>\n",
       "      <th>3</th>\n",
       "      <td>Schleswig-Holstein</td>\n",
       "      <td>SK Flensburg</td>\n",
       "      <td>A00-A04</td>\n",
       "      <td>M</td>\n",
       "      <td>1</td>\n",
       "      <td>0</td>\n",
       "      <td>4</td>\n",
       "      <td>1</td>\n",
       "      <td>1</td>\n",
       "      <td>2020-11-19</td>\n",
       "      <td>19</td>\n",
       "      <td>11</td>\n",
       "      <td>2020</td>\n",
       "      <td>3</td>\n",
       "      <td>1425649</td>\n",
       "      <td>1485226</td>\n",
       "      <td>2910875</td>\n",
       "    </tr>\n",
       "    <tr>\n",
       "      <th>4</th>\n",
       "      <td>Schleswig-Holstein</td>\n",
       "      <td>SK Flensburg</td>\n",
       "      <td>A00-A04</td>\n",
       "      <td>M</td>\n",
       "      <td>1</td>\n",
       "      <td>0</td>\n",
       "      <td>5</td>\n",
       "      <td>1</td>\n",
       "      <td>1</td>\n",
       "      <td>2020-11-18</td>\n",
       "      <td>18</td>\n",
       "      <td>11</td>\n",
       "      <td>2020</td>\n",
       "      <td>2</td>\n",
       "      <td>1425649</td>\n",
       "      <td>1485226</td>\n",
       "      <td>2910875</td>\n",
       "    </tr>\n",
       "  </tbody>\n",
       "</table>\n",
       "</div>"
      ],
      "text/plain": [
       "                State      District Age_group Gender  N_cases  N_deaths  \\\n",
       "0  Schleswig-Holstein  SK Flensburg   A00-A04      M        1         0   \n",
       "1  Schleswig-Holstein  SK Flensburg   A00-A04      M        1         0   \n",
       "2  Schleswig-Holstein  SK Flensburg   A00-A04      M        1         0   \n",
       "3  Schleswig-Holstein  SK Flensburg   A00-A04      M        1         0   \n",
       "4  Schleswig-Holstein  SK Flensburg   A00-A04      M        1         0   \n",
       "\n",
       "   ObjectId  N_recoveries Illness_onset       Date  day  month  year  weekday  \\\n",
       "0         1             1             0 2020-09-30   30      9  2020        2   \n",
       "1         2             1             0 2020-10-29   29     10  2020        3   \n",
       "2         3             1             0 2020-11-03    3     11  2020        1   \n",
       "3         4             1             1 2020-11-19   19     11  2020        3   \n",
       "4         5             1             1 2020-11-18   18     11  2020        2   \n",
       "\n",
       "      Male   Female    Total  \n",
       "0  1425649  1485226  2910875  \n",
       "1  1425649  1485226  2910875  \n",
       "2  1425649  1485226  2910875  \n",
       "3  1425649  1485226  2910875  \n",
       "4  1425649  1485226  2910875  "
      ]
     },
     "execution_count": 64,
     "metadata": {},
     "output_type": "execute_result"
    }
   ],
   "source": [
    "df_merged.head()"
   ]
  },
  {
   "cell_type": "code",
   "execution_count": 66,
   "id": "de5f989a",
   "metadata": {},
   "outputs": [
    {
     "name": "stdout",
     "output_type": "stream",
     "text": [
      "<class 'pandas.core.frame.DataFrame'>\n",
      "Int64Index: 2484353 entries, 0 to 2484352\n",
      "Data columns (total 17 columns):\n",
      " #   Column         Dtype         \n",
      "---  ------         -----         \n",
      " 0   State          object        \n",
      " 1   District       object        \n",
      " 2   Age_group      category      \n",
      " 3   Gender         category      \n",
      " 4   N_cases        int32         \n",
      " 5   N_deaths       int32         \n",
      " 6   ObjectId       int32         \n",
      " 7   N_recoveries   int16         \n",
      " 8   Illness_onset  category      \n",
      " 9   Date           datetime64[ns]\n",
      " 10  day            int16         \n",
      " 11  month          int16         \n",
      " 12  year           int16         \n",
      " 13  weekday        int16         \n",
      " 14  Male           int64         \n",
      " 15  Female         int64         \n",
      " 16  Total          int64         \n",
      "dtypes: category(3), datetime64[ns](1), int16(5), int32(3), int64(3), object(2)\n",
      "memory usage: 191.9+ MB\n"
     ]
    }
   ],
   "source": [
    "df_merged.info()"
   ]
  },
  {
   "cell_type": "code",
   "execution_count": 67,
   "id": "752ca1f3",
   "metadata": {},
   "outputs": [],
   "source": [
    "#cast Columns to int32\n",
    "df_merged['Male']=df_merged['Male'].astype('int32')\n",
    "df_merged['Female']=df_merged['Female'].astype('int32')\n",
    "df_merged['Total']=df_merged['Total'].astype('int32')"
   ]
  },
  {
   "cell_type": "code",
   "execution_count": 72,
   "id": "5607515e",
   "metadata": {
    "scrolled": false
   },
   "outputs": [
    {
     "data": {
      "text/plain": [
       "State                    object\n",
       "District                 object\n",
       "Age_group              category\n",
       "Gender                 category\n",
       "N_cases                   int32\n",
       "N_deaths                  int32\n",
       "ObjectId                  int32\n",
       "N_recoveries              int16\n",
       "Illness_onset          category\n",
       "Date             datetime64[ns]\n",
       "day                       int16\n",
       "month                     int16\n",
       "year                      int16\n",
       "weekday                   int16\n",
       "Male                      int32\n",
       "Female                    int32\n",
       "Total                     int32\n",
       "dtype: object"
      ]
     },
     "execution_count": 72,
     "metadata": {},
     "output_type": "execute_result"
    }
   ],
   "source": [
    "df_merged.dtypes"
   ]
  },
  {
   "cell_type": "code",
   "execution_count": 74,
   "id": "e7b35274",
   "metadata": {},
   "outputs": [],
   "source": [
    "#Export the merged dataframe\n",
    "df_merged.to_csv(os.path.join(path,'data','prepared_data','df_checked.csv'))"
   ]
  }
 ],
 "metadata": {
  "kernelspec": {
   "display_name": "Python 3",
   "language": "python",
   "name": "python3"
  },
  "language_info": {
   "codemirror_mode": {
    "name": "ipython",
    "version": 3
   },
   "file_extension": ".py",
   "mimetype": "text/x-python",
   "name": "python",
   "nbconvert_exporter": "python",
   "pygments_lexer": "ipython3",
   "version": "3.8.8"
  }
 },
 "nbformat": 4,
 "nbformat_minor": 5
}
